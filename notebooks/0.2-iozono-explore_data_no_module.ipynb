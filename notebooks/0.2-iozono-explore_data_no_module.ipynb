{
 "cells": [
  {
   "cell_type": "markdown",
   "metadata": {},
   "source": [
    "# 0.2 Explore data"
   ]
  },
  {
   "cell_type": "markdown",
   "metadata": {},
   "source": [
    "## Libraries"
   ]
  },
  {
   "cell_type": "markdown",
   "metadata": {},
   "source": [
    "### Importing Required Libraries and Modules\n",
    "\n",
    "- `import final_project.utils.paths as path`:\n",
    "  - This line imports the `paths` module from `final_project.utils`. This module  provides functionalities for managing file paths in the project, allowing us to reference file locations efficiently.\n",
    "\n",
    "- `import janitor`:\n",
    "  - Here, we import `janitor`, a library that extends Pandas with additional data cleaning functions. It's useful for tasks like cleaning column names or handling missing data, making our data preprocessing steps more concise and readable.\n",
    "\n",
    "- `import matplotlib.pyplot as plt`:\n",
    "  - This imports the `pyplot` interface from the `matplotlib` library, a widely-used plotting library in Python. `plt` will be used for creating a variety of static, animated, and interactive visualizations.\n",
    "\n",
    "- `import pandas as pd`:\n",
    "  - Pandas is a foundational library for data manipulation and analysis in Python. It offers data structures and operations for manipulating numerical tables and time series, essential for our data analysis.\n",
    "\n",
    "- `import seaborn as sns`:\n",
    "  - Seaborn is a Python visualization library based on matplotlib that provides a high-level interface for drawing attractive and informative statistical graphics. It works well with Pandas data structures and is often used for more complex visualizations.\n",
    "\n",
    "\n"
   ]
  },
  {
   "cell_type": "code",
   "execution_count": 1,
   "metadata": {},
   "outputs": [
    {
     "name": "stderr",
     "output_type": "stream",
     "text": [
      "/Users/ivanozono/anaconda3/envs/final_project/lib/python3.9/site-packages/scipy/__init__.py:146: UserWarning: A NumPy version >=1.16.5 and <1.23.0 is required for this version of SciPy (detected version 1.26.2\n",
      "  warnings.warn(f\"A NumPy version >={np_minversion} and <{np_maxversion}\"\n"
     ]
    }
   ],
   "source": [
    "import final_project.utils.paths as path\n",
    "import janitor\n",
    "import matplotlib.pyplot as plt\n",
    "import pandas as pd\n",
    "import seaborn as sns"
   ]
  },
  {
   "cell_type": "markdown",
   "metadata": {},
   "source": [
    "## Read data"
   ]
  },
  {
   "cell_type": "markdown",
   "metadata": {},
   "source": [
    "### Setting the Path for the Processed COVID-19 Data File\n",
    "\n",
    "- `processed_covid_file = path.data_processed_dir(\"time_series_covid19_confirmed_global_processed.csv\")`:\n",
    "  - In this line, we define the variable `processed_covid_file` to store the path of the processed COVID-19 data file.\n",
    "  - We use the `data_processed_dir` function from the previously imported `path` module. This function is tailored to retrieve the path to the directory designated for processed data within the project structure.\n",
    "  - The specific file name `\"time_series_covid19_confirmed_global_processed.csv\"` indicates the file we intend to use. \n",
    "\n"
   ]
  },
  {
   "cell_type": "code",
   "execution_count": 2,
   "metadata": {},
   "outputs": [],
   "source": [
    "processed_covid_file = path.data_processed_dir(\"time_series_covid19_confirmed_global_processed.csv\")"
   ]
  },
  {
   "cell_type": "markdown",
   "metadata": {},
   "source": [
    "### Loading the Processed COVID-19 Data and Obtaining Basic Information\n",
    "\n",
    "- `processed_covid_df = pd.read_csv(processed_covid_file)`:\n",
    "  - This line of code loads the processed COVID-19 data into a Pandas DataFrame named `processed_covid_df`.\n",
    "  - We use the Pandas function `read_csv`, specifying the path stored in `processed_covid_file`. This ensures we are loading the correctly processed dataset for our analysis.\n",
    "\n",
    "- `processed_covid_df.info()`:\n",
    "  - The `info()` method is then called on the `processed_covid_df` DataFrame. This method provides a concise summary of the DataFrame, including the number of entries, the name and data type of each column, and the number of non-null values.\n",
    "  - Utilizing `info()` is a standard practice in data analysis to quickly assess the structure and integrity of the loaded data, such as understanding the format, identifying potential missing values, and getting an overview of the data types present in the DataFrame.\n",
    "\n",
    "\n"
   ]
  },
  {
   "cell_type": "code",
   "execution_count": 3,
   "metadata": {},
   "outputs": [
    {
     "name": "stdout",
     "output_type": "stream",
     "text": [
      "<class 'pandas.core.frame.DataFrame'>\n",
      "RangeIndex: 330327 entries, 0 to 330326\n",
      "Data columns (total 3 columns):\n",
      " #   Column          Non-Null Count   Dtype \n",
      "---  ------          --------------   ----- \n",
      " 0   country_region  330327 non-null  object\n",
      " 1   date            330327 non-null  object\n",
      " 2   value           330327 non-null  int64 \n",
      "dtypes: int64(1), object(2)\n",
      "memory usage: 7.6+ MB\n"
     ]
    }
   ],
   "source": [
    "processed_covid_df = pd.read_csv(processed_covid_file)\n",
    "processed_covid_df.info()"
   ]
  },
  {
   "cell_type": "markdown",
   "metadata": {},
   "source": [
    "### Output from `processed_covid_df.info()`\n",
    "\n",
    "\n",
    "\n",
    "- **DataFrame Type:** The data is stored in a `pandas.core.frame.DataFrame`, confirming that it's in the standard Pandas DataFrame format.\n",
    "\n",
    "- **Entries and RangeIndex:**\n",
    "  - The DataFrame has `330327` entries, indicating a significant volume of data.\n",
    "  - It uses a `RangeIndex` from `0` to `330326`, meaning the data is indexed sequentially.\n",
    "\n",
    "- **Data Columns:**\n",
    "  - There are a total of `3` columns in the DataFrame. Each column's name, non-null count, and data type are listed.\n",
    "  - `country_region`: An `object` type (likely strings) with `330327` non-null entries. This column contains the names of countries or regions.\n",
    "  - `date`: Also an `object` type with `330327` non-null entries. The dates are currently in string format.\n",
    "  - `value`: An `int64` type with `330327` non-null entries. This column represents the number of confirmed COVID-19 cases.\n",
    "\n",
    "- **Memory Usage:**\n",
    "  - The DataFrame uses approximately `7.6 MB` of memory, providing a sense of the dataset's size.\n",
    "\n",
    "\n"
   ]
  },
  {
   "cell_type": "markdown",
   "metadata": {},
   "source": [
    "### Viewing the First Rows of the Processed COVID-19 DataFrame\n",
    "\n",
    "- `processed_covid_df.head()`:\n",
    "  - This method will display the first five rows of the `processed_covid_df` DataFrame. This is a common step in data analysis to quickly get a sense of the data's format, values, and overall structure.\n",
    "  - The output will provide a glimpse into how the data is organized post-processing, including a look at the actual data entries for the first few records.\n",
    "\n",
    "\n"
   ]
  },
  {
   "cell_type": "code",
   "execution_count": 4,
   "metadata": {},
   "outputs": [
    {
     "data": {
      "text/html": [
       "<div>\n",
       "<style scoped>\n",
       "    .dataframe tbody tr th:only-of-type {\n",
       "        vertical-align: middle;\n",
       "    }\n",
       "\n",
       "    .dataframe tbody tr th {\n",
       "        vertical-align: top;\n",
       "    }\n",
       "\n",
       "    .dataframe thead th {\n",
       "        text-align: right;\n",
       "    }\n",
       "</style>\n",
       "<table border=\"1\" class=\"dataframe\">\n",
       "  <thead>\n",
       "    <tr style=\"text-align: right;\">\n",
       "      <th></th>\n",
       "      <th>country_region</th>\n",
       "      <th>date</th>\n",
       "      <th>value</th>\n",
       "    </tr>\n",
       "  </thead>\n",
       "  <tbody>\n",
       "    <tr>\n",
       "      <th>0</th>\n",
       "      <td>Afghanistan</td>\n",
       "      <td>2020-01-22</td>\n",
       "      <td>0</td>\n",
       "    </tr>\n",
       "    <tr>\n",
       "      <th>1</th>\n",
       "      <td>Albania</td>\n",
       "      <td>2020-01-22</td>\n",
       "      <td>0</td>\n",
       "    </tr>\n",
       "    <tr>\n",
       "      <th>2</th>\n",
       "      <td>Algeria</td>\n",
       "      <td>2020-01-22</td>\n",
       "      <td>0</td>\n",
       "    </tr>\n",
       "    <tr>\n",
       "      <th>3</th>\n",
       "      <td>Andorra</td>\n",
       "      <td>2020-01-22</td>\n",
       "      <td>0</td>\n",
       "    </tr>\n",
       "    <tr>\n",
       "      <th>4</th>\n",
       "      <td>Angola</td>\n",
       "      <td>2020-01-22</td>\n",
       "      <td>0</td>\n",
       "    </tr>\n",
       "  </tbody>\n",
       "</table>\n",
       "</div>"
      ],
      "text/plain": [
       "  country_region        date  value\n",
       "0    Afghanistan  2020-01-22      0\n",
       "1        Albania  2020-01-22      0\n",
       "2        Algeria  2020-01-22      0\n",
       "3        Andorra  2020-01-22      0\n",
       "4         Angola  2020-01-22      0"
      ]
     },
     "execution_count": 4,
     "metadata": {},
     "output_type": "execute_result"
    }
   ],
   "source": [
    "processed_covid_df.head()"
   ]
  },
  {
   "cell_type": "markdown",
   "metadata": {},
   "source": [
    "### Output from `processed_covid_df.head()`\n",
    "\n",
    "The output of `processed_covid_df.head()` shows the first five entries in the processed COVID-19 dataset:\n",
    "\n",
    "- **Columns and Sample Data:**\n",
    "  - `country_region`: Lists the country or region. The first five entries are Afghanistan, Albania, Algeria, Andorra, and Angola.\n",
    "  - `date`: Shows the date for the data entry. All five entries have the same date, `2020-01-22`, indicating this dataset includes time-series data.\n",
    "  - `value`: Represents the number of confirmed COVID-19 cases. In these initial entries, the value is `0` for all listed countries on `2020-01-22`.\n",
    "\n",
    "- **Initial Observations:**\n",
    "  - The dataset appears to be structured with each row representing the count of confirmed COVID-19 cases for each country on a given date.\n",
    "  - The initial counts of `0` suggest that this early in the timeline (January 22, 2020), these countries had not yet reported confirmed cases, or the outbreak had not reached these regions yet.\n",
    "\n"
   ]
  },
  {
   "cell_type": "markdown",
   "metadata": {},
   "source": [
    "## Explore data"
   ]
  },
  {
   "cell_type": "markdown",
   "metadata": {},
   "source": [
    "### Setting the Visual Style for Seaborn Plots\n",
    "\n",
    "- `sns.set_style(\"whitegrid\")`:\n",
    "  - This line of code sets the visual style for plots created using Seaborn, a Python visualization library.\n",
    "  - The `\"whitegrid\"` style is specified, which means that all subsequent Seaborn plots in this notebook will have a white background with gridlines. This style is typically chosen for its clean and readable aesthetics, making it easier to interpret the data visualized in the plots.\n",
    "  \n"
   ]
  },
  {
   "cell_type": "code",
   "execution_count": 5,
   "metadata": {},
   "outputs": [],
   "source": [
    "sns.set_style(\"whitegrid\")"
   ]
  },
  {
   "cell_type": "markdown",
   "metadata": {},
   "source": [
    "### Transforming the 'date' Column to Datetime Format\n",
    "\n",
    "- `processed_covid_df = (`\n",
    "  - This line indicates the start of a method chain applied to `processed_covid_df`, our DataFrame containing the processed COVID-19 data.\n",
    "\n",
    "- `.transform_column(\"date\", pd.to_datetime)`\n",
    "  - Here, we are using the `transform_column` method,  a feature from the `janitor` library, to modify the 'date' column.\n",
    "  - `pd.to_datetime` is passed as the second argument, which is a Pandas function that converts a string or similar object to a datetime object.\n",
    "  - This transformation is essential for time-series analysis, as it ensures that the 'date' column is in the correct format to perform date and time-specific operations.\n",
    "\n",
    "\n"
   ]
  },
  {
   "cell_type": "code",
   "execution_count": 6,
   "metadata": {},
   "outputs": [],
   "source": [
    "processed_covid_df = (\n",
    "    processed_covid_df\n",
    "    .transform_column(\n",
    "        \"date\",\n",
    "        pd.to_datetime\n",
    "    )\n",
    ")"
   ]
  },
  {
   "cell_type": "markdown",
   "metadata": {},
   "source": [
    "### Filtering Data for Specific Latin American Countries\n",
    "\n",
    "- `countries = ['Argentina', 'Brazil', 'Chile', 'Colombia', 'Mexico', 'Peru']`:\n",
    "  - This line defines a list named `countries` containing the names of specific Latin American countries: Argentina, Brazil, Chile, Colombia, Mexico, and Peru. This list will be used to filter the dataset.\n",
    "\n",
    "- `some_latam_countries_df = processed_covid_df.filter_on(f\"country_region in {countries}\")`:\n",
    "  - Here, we use the `filter_on` method  on `processed_covid_df` to filter the data. \n",
    "  - The filtering condition `f\"country_region in {countries}\"` is used to select rows where the `country_region` column matches any of the countries listed in the `countries` list.\n",
    "  - The result is a new DataFrame, `some_latam_countries_df`, which contains data only from Argentina, Brazil, Chile, Colombia, Mexico, and Peru.\n",
    "\n",
    "- `some_latam_countries_df.head(3)`:\n",
    "  - This method displays the first three rows of the `some_latam_countries_df` DataFrame.\n",
    "  - It provides a quick view to confirm that the filtering was successful and to see the format of the data for these specific countries.\n",
    "\n",
    "\n"
   ]
  },
  {
   "cell_type": "code",
   "execution_count": 7,
   "metadata": {},
   "outputs": [
    {
     "data": {
      "text/html": [
       "<div>\n",
       "<style scoped>\n",
       "    .dataframe tbody tr th:only-of-type {\n",
       "        vertical-align: middle;\n",
       "    }\n",
       "\n",
       "    .dataframe tbody tr th {\n",
       "        vertical-align: top;\n",
       "    }\n",
       "\n",
       "    .dataframe thead th {\n",
       "        text-align: right;\n",
       "    }\n",
       "</style>\n",
       "<table border=\"1\" class=\"dataframe\">\n",
       "  <thead>\n",
       "    <tr style=\"text-align: right;\">\n",
       "      <th></th>\n",
       "      <th>country_region</th>\n",
       "      <th>date</th>\n",
       "      <th>value</th>\n",
       "    </tr>\n",
       "  </thead>\n",
       "  <tbody>\n",
       "    <tr>\n",
       "      <th>7</th>\n",
       "      <td>Argentina</td>\n",
       "      <td>2020-01-22</td>\n",
       "      <td>0</td>\n",
       "    </tr>\n",
       "    <tr>\n",
       "      <th>31</th>\n",
       "      <td>Brazil</td>\n",
       "      <td>2020-01-22</td>\n",
       "      <td>0</td>\n",
       "    </tr>\n",
       "    <tr>\n",
       "      <th>58</th>\n",
       "      <td>Chile</td>\n",
       "      <td>2020-01-22</td>\n",
       "      <td>0</td>\n",
       "    </tr>\n",
       "  </tbody>\n",
       "</table>\n",
       "</div>"
      ],
      "text/plain": [
       "   country_region       date  value\n",
       "7       Argentina 2020-01-22      0\n",
       "31         Brazil 2020-01-22      0\n",
       "58          Chile 2020-01-22      0"
      ]
     },
     "execution_count": 7,
     "metadata": {},
     "output_type": "execute_result"
    }
   ],
   "source": [
    "countries = ['Argentina', 'Brazil', 'Chile', 'Colombia', 'Mexico', 'Peru']\n",
    "some_latam_countries_df = processed_covid_df.filter_on(f\"country_region in {countries}\")\n",
    "some_latam_countries_df.head(3)"
   ]
  },
  {
   "cell_type": "markdown",
   "metadata": {},
   "source": [
    "### Creating a Line Plot for COVID-19 Time Series Data of Latin American Countries\n",
    "\n",
    "- `sns.lineplot(data=some_latam_countries_df, x=\"date\", y=\"value\", hue=\"country_region\")`:\n",
    "  - This line of code creates a line plot using Seaborn's `lineplot` function.\n",
    "  - `data=some_latam_countries_df` specifies that the data for the plot comes from the `some_latam_countries_df` DataFrame, which contains COVID-19 data for selected Latin American countries.\n",
    "  - The `x=\"date\"` argument sets the x-axis to represent dates.\n",
    "  - The `y=\"value\"` argument sets the y-axis to represent the number of confirmed COVID-19 cases (value).\n",
    "  - `hue=\"country_region\"` distinguishes the data points by country, providing a different color line for each country in the dataset.\n",
    "\n",
    "- `plt.xticks(rotation=15)`:\n",
    "  - This adjusts the x-axis tick labels, rotating them by 15 degrees. It improves the readability of the dates on the x-axis.\n",
    "\n",
    "- `plt.xlabel(\"Date\")` and `plt.ylabel(\"Value\")`:\n",
    "  - These lines set the labels for the x-axis and y-axis, respectively. \"Date\" for the x-axis and \"Value\" (representing the number of confirmed cases) for the y-axis.\n",
    "\n",
    "- `plt.title(\"Latam covid time series\")`:\n",
    "  - Sets the title of the plot to \"Latam covid time series\".\n",
    "\n",
    "This visualization is crucial for analyzing the trend of COVID-19 cases over time in the selected Latin American countries. It helps in comparing the trajectory of the pandemic across these countries, providing insights into regional patterns or differences.\n"
   ]
  },
  {
   "cell_type": "code",
   "execution_count": 8,
   "metadata": {},
   "outputs": [
    {
     "name": "stderr",
     "output_type": "stream",
     "text": [
      "/Users/ivanozono/anaconda3/envs/final_project/lib/python3.9/site-packages/seaborn/_core.py:1225: FutureWarning: is_categorical_dtype is deprecated and will be removed in a future version. Use isinstance(dtype, CategoricalDtype) instead\n",
      "  if pd.api.types.is_categorical_dtype(vector):\n",
      "/Users/ivanozono/anaconda3/envs/final_project/lib/python3.9/site-packages/seaborn/_core.py:1225: FutureWarning: is_categorical_dtype is deprecated and will be removed in a future version. Use isinstance(dtype, CategoricalDtype) instead\n",
      "  if pd.api.types.is_categorical_dtype(vector):\n",
      "/Users/ivanozono/anaconda3/envs/final_project/lib/python3.9/site-packages/seaborn/_core.py:1225: FutureWarning: is_categorical_dtype is deprecated and will be removed in a future version. Use isinstance(dtype, CategoricalDtype) instead\n",
      "  if pd.api.types.is_categorical_dtype(vector):\n",
      "/Users/ivanozono/anaconda3/envs/final_project/lib/python3.9/site-packages/seaborn/_core.py:1225: FutureWarning: is_categorical_dtype is deprecated and will be removed in a future version. Use isinstance(dtype, CategoricalDtype) instead\n",
      "  if pd.api.types.is_categorical_dtype(vector):\n"
     ]
    },
    {
     "data": {
      "image/png": "[encoded data removed]",
      "text/plain": [
       "<Figure size 432x288 with 1 Axes>"
      ]
     },
     "metadata": {},
     "output_type": "display_data"
    }
   ],
   "source": [
    "sns.lineplot(\n",
    "    data=some_latam_countries_df,\n",
    "    x=\"date\",\n",
    "    y=\"value\",\n",
    "    hue=\"country_region\"\n",
    ")\n",
    "\n",
    "plt.xticks(rotation=15)\n",
    "plt.xlabel(\"Date\")\n",
    "plt.ylabel(\"Value\")\n",
    "plt.title(\"Latam covid time series\");"
   ]
  },
  {
   "cell_type": "markdown",
   "metadata": {},
   "source": [
    "\n",
    "\n",
    "The line plot above visualizes the progression of confirmed COVID-19 cases over time for selected Latin American countries: Argentina, Brazil, Chile, Colombia, Mexico, and Peru. Key observations include:\n",
    "\n",
    "- **Brazil's Trajectory:** Brazil's curve is markedly steeper than the others, suggesting a more rapid increase in the number of confirmed cases.\n",
    "- **Other Countries' Trends:** Argentina, Chile, Colombia, Mexico, and Peru exhibit upward trends but at a less dramatic rate compared to Brazil.\n",
    "- **Pandemic Spread:** Initially, all countries show nearly flat lines, indicating low numbers of confirmed cases. As time progresses, each country experiences an increase in cases, though the timing and rate of increase vary.\n",
    "\n",
    "It is evident that Brazil has been the hardest hit among the depicted regions, with its line showing an exponential growth pattern. The use of a logarithmic scale on the y-axis helps in comparing the exponential growth rates despite the large differences in absolute numbers.\n"
   ]
  },
  {
   "cell_type": "markdown",
   "metadata": {},
   "source": [
    "### Identifying Top Countries by Total COVID-19 Cases\n",
    "\n",
    "- `top_countries_df = (`\n",
    "  - We are starting a chain of operations on the `processed_covid_df` DataFrame, aiming to identify the top 20 countries with the highest total COVID-19 case counts.\n",
    "\n",
    "- `.select_columns([\"country_region\", \"value\"])`\n",
    "  - Select only the 'country_region' and 'value' columns, which represent the country names and the number of confirmed cases, respectively.\n",
    "\n",
    "- `.groupby([\"country_region\"])`\n",
    "  - Group the data by 'country_region' to perform aggregated calculations per country.\n",
    "\n",
    "- `.aggregate(\"sum\")`\n",
    "  - Aggregate the confirmed cases by summing them up for each country, giving us the total number of confirmed cases per country.\n",
    "\n",
    "- `.sort_values(\"value\", ascending=False)`\n",
    "  - Sort the countries in descending order of their total confirmed cases to bring the countries with the highest totals to the top.\n",
    "\n",
    "- `.reset_index()`\n",
    "  - Reset the index of the DataFrame after sorting, which is a common practice after groupby operations to maintain a clean DataFrame.\n",
    "\n",
    "- `.head(20)`\n",
    "  - Select the top 20 countries from the sorted list.\n",
    "\n",
    "- `.transform_column(column_name=\"country_region\", function=lambda x: \"red\" if x in countries else \"lightblue\", dest_column_name=\"color\")`\n",
    "  - Transform the 'country_region' column by applying a lambda function that assigns the color \"red\" to the countries specified in our earlier list (representing Latin American countries) and \"lightblue\" to all others. The result is stored in a new column called 'color'.\n",
    "  \n",
    "- `top_countries_df.head()`\n",
    "  - Display the first few rows of the `top_countries_df` DataFrame to verify the transformations and see the top countries with the most confirmed cases.\n",
    "\n",
    "This DataFrame, `top_countries_df`, will now contain the top 20 countries with the most confirmed COVID-19 cases, along with a color code that distinguishes selected Latin American countries from the rest. \n"
   ]
  },
  {
   "cell_type": "code",
   "execution_count": 9,
   "metadata": {},
   "outputs": [
    {
     "data": {
      "text/html": [
       "<div>\n",
       "<style scoped>\n",
       "    .dataframe tbody tr th:only-of-type {\n",
       "        vertical-align: middle;\n",
       "    }\n",
       "\n",
       "    .dataframe tbody tr th {\n",
       "        vertical-align: top;\n",
       "    }\n",
       "\n",
       "    .dataframe thead th {\n",
       "        text-align: right;\n",
       "    }\n",
       "</style>\n",
       "<table border=\"1\" class=\"dataframe\">\n",
       "  <thead>\n",
       "    <tr style=\"text-align: right;\">\n",
       "      <th></th>\n",
       "      <th>country_region</th>\n",
       "      <th>value</th>\n",
       "      <th>color</th>\n",
       "    </tr>\n",
       "  </thead>\n",
       "  <tbody>\n",
       "    <tr>\n",
       "      <th>0</th>\n",
       "      <td>US</td>\n",
       "      <td>53813184406</td>\n",
       "      <td>lightblue</td>\n",
       "    </tr>\n",
       "    <tr>\n",
       "      <th>1</th>\n",
       "      <td>India</td>\n",
       "      <td>29131119694</td>\n",
       "      <td>lightblue</td>\n",
       "    </tr>\n",
       "    <tr>\n",
       "      <th>2</th>\n",
       "      <td>Brazil</td>\n",
       "      <td>21182690594</td>\n",
       "      <td>red</td>\n",
       "    </tr>\n",
       "    <tr>\n",
       "      <th>3</th>\n",
       "      <td>France</td>\n",
       "      <td>16105911886</td>\n",
       "      <td>lightblue</td>\n",
       "    </tr>\n",
       "    <tr>\n",
       "      <th>4</th>\n",
       "      <td>Germany</td>\n",
       "      <td>13686043720</td>\n",
       "      <td>lightblue</td>\n",
       "    </tr>\n",
       "  </tbody>\n",
       "</table>\n",
       "</div>"
      ],
      "text/plain": [
       "  country_region        value      color\n",
       "0             US  53813184406  lightblue\n",
       "1          India  29131119694  lightblue\n",
       "2         Brazil  21182690594        red\n",
       "3         France  16105911886  lightblue\n",
       "4        Germany  13686043720  lightblue"
      ]
     },
     "execution_count": 9,
     "metadata": {},
     "output_type": "execute_result"
    }
   ],
   "source": [
    "top_countries_df = (\n",
    "    processed_covid_df\n",
    "    .select_columns([\"country_region\", \"value\"])\n",
    "    .groupby([\"country_region\"])\n",
    "    .aggregate(\"sum\")\n",
    "    .sort_values(\"value\", ascending=False)\n",
    "    .reset_index()\n",
    "    .head(20)\n",
    "    .transform_column(\n",
    "        column_name=\"country_region\",\n",
    "        function=lambda x: \"red\" if x in countries else \"lightblue\",\n",
    "        dest_column_name=\"color\"\n",
    "    )\n",
    ")\n",
    "\n",
    "top_countries_df.head()"
   ]
  },
  {
   "cell_type": "markdown",
   "metadata": {},
   "source": [
    "### Top Countries by Total COVID-19 Cases with Color Coding\n",
    "\n",
    "The table displayed shows the results of the processed DataFrame `top_countries_df`:\n",
    "\n",
    "- `country_region`: The name of the country.\n",
    "- `value`: The aggregated sum of confirmed COVID-19 cases for each country.\n",
    "- `color`: A color code assigned to each country, with selected Latin American countries colored red and all others colored lightblue.\n",
    "\n",
    "#### First Five Rows Analysis:\n",
    "- The United States (`US`) leads with the highest total number of confirmed cases, followed by India.\n",
    "- Brazil is the third on the list and is also the highest-ranked among the Latin American countries we've specifically marked; it is colored in red.\n",
    "- France and Germany come in fourth and fifth, respectively, and are colored lightblue, indicating they are not part of the Latin American countries we're focusing on.\n"
   ]
  },
  {
   "cell_type": "markdown",
   "metadata": {},
   "source": [
    "### Creating a Barplot for Top Countries by COVID-19 Cases\n",
    "\n",
    "- `sns.barplot(data=top_countries_df, x=\"value\", y=\"country_region\", palette=top_countries_df.color)`:\n",
    "  - This line creates a horizontal bar plot using Seaborn's `barplot` function.\n",
    "  - The `data` parameter is set to `top_countries_df`, which is our DataFrame containing the top 20 countries with the highest total COVID-19 cases.\n",
    "  - The `x` parameter represents the total number of confirmed cases (`value`), which will determine the length of the bars.\n",
    "  - The `y` parameter represents the countries (`country_region`), which will be listed on the y-axis.\n",
    "  - The `palette` parameter is set to the `color` column of `top_countries_df`, which applies our custom color coding (red for selected Latin American countries and lightblue for others) to the bars.\n",
    "\n",
    "- `plt.xlabel(\"Value\")` and `plt.ylabel(\"Country Region\")`:\n",
    "  - These commands set the labels for the x-axis and y-axis, respectively. \"Value\" indicates the total number of confirmed cases, and \"Country Region\" lists the names of the countries.\n",
    "\n",
    "- `plt.title(\"Latam countries in a global context\")`:\n",
    "  - This sets the title of the plot, indicating that the visualized data compares the selected Latin American countries against other countries globally in terms of COVID-19 case counts.\n",
    "\n",
    "\n"
   ]
  },
  {
   "cell_type": "code",
   "execution_count": 10,
   "metadata": {},
   "outputs": [
    {
     "name": "stderr",
     "output_type": "stream",
     "text": [
      "/Users/ivanozono/anaconda3/envs/final_project/lib/python3.9/site-packages/seaborn/_core.py:1225: FutureWarning: is_categorical_dtype is deprecated and will be removed in a future version. Use isinstance(dtype, CategoricalDtype) instead\n",
      "  if pd.api.types.is_categorical_dtype(vector):\n",
      "/Users/ivanozono/anaconda3/envs/final_project/lib/python3.9/site-packages/seaborn/_core.py:1225: FutureWarning: is_categorical_dtype is deprecated and will be removed in a future version. Use isinstance(dtype, CategoricalDtype) instead\n",
      "  if pd.api.types.is_categorical_dtype(vector):\n"
     ]
    },
    {
     "data": {
      "image/png": "[encoded data removed]",
      "text/plain": [
       "<Figure size 432x288 with 1 Axes>"
      ]
     },
     "metadata": {},
     "output_type": "display_data"
    }
   ],
   "source": [
    "sns.barplot(\n",
    "    data=top_countries_df,\n",
    "    x=\"value\",\n",
    "    y=\"country_region\",\n",
    "    palette=top_countries_df.color\n",
    ")\n",
    "\n",
    "plt.xlabel(\"Value\")\n",
    "plt.ylabel(\"Country Region\")\n",
    "plt.title(\"Latam countries in a global context\");"
   ]
  },
  {
   "cell_type": "markdown",
   "metadata": {},
   "source": [
    "\n",
    "\n",
    "The barplot above illustrates the total confirmed COVID-19 cases for the top 20 countries globally, with a special emphasis on Latin American countries:\n",
    "\n",
    "- **Scale and Impact:** The US, India, and Brazil show the largest bars, indicating the highest total confirmed cases. The scale is logarithmic, as evidenced by the `1e10` on the x-axis, which allows for a more digestible comparison of numbers that vary greatly in magnitude.\n",
    "\n",
    "- **Color Coding:** Latin American countries are highlighted in red, making them easily distinguishable. Brazil, Argentina, Colombia, and Mexico are the Latin American countries that appear among the top 20 and are notably visible due to their red coloring.\n",
    "\n",
    "- **Global Context:** The plot provides a clear visual context of how Latin American countries rank among other heavily impacted countries. Brazil is the most affected among them, followed by Argentina, Colombia, and Mexico.\n",
    "\n",
    "- **Interpretation:** While the US and India are leading in total cases, the plot highlights that Brazil, as a Latin American country, also has a significant number of total cases, ranking third globally.\n",
    "\n",
    "\n"
   ]
  }
 ],
 "metadata": {
  "interpreter": {
   "hash": "d3201167444dbe6abbbc1aebe26fb7a6b7b946dd39b7e90e38c96f1716eb7be4"
  },
  "kernelspec": {
   "display_name": "Python 3.9.6 64-bit ('final_project': conda)",
   "name": "python3"
  },
  "language_info": {
   "codemirror_mode": {
    "name": "ipython",
    "version": 3
   },
   "file_extension": ".py",
   "mimetype": "text/x-python",
   "name": "python",
   "nbconvert_exporter": "python",
   "pygments_lexer": "ipython3",
   "version": "3.9.6"
  },
  "orig_nbformat": 4
 },
 "nbformat": 4,
 "nbformat_minor": 2
}
