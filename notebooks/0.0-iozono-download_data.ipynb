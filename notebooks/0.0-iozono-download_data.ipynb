{
 "cells": [
  {
   "cell_type": "markdown",
   "metadata": {},
   "source": [
    "# 0.0 Download data"
   ]
  },
  {
   "cell_type": "markdown",
   "metadata": {},
   "source": [
    "\n",
    "\n",
    "This notebook is part of a series of initial steps in our data science project. Its main purpose is to establish a systematic and reproducible process for downloading the datasets needed for later phases of the project. This process includes identifying relevant data sources, implementing efficient and secure methods for downloading, and verifying the integrity and quality of the obtained data. This structured approach ensures that our subsequent analysis is based on complete, accurate, and reliable data.\n"
   ]
  },
  {
   "cell_type": "markdown",
   "metadata": {},
   "source": [
    "## Libraries"
   ]
  },
  {
   "cell_type": "markdown",
   "metadata": {},
   "source": [
    "### Importing the Project's Path Module\n",
    "\n",
    "In this line of code, we are importing the `paths` module from the `final_project.utils` package. This `paths` module is a custom part of our project used for managing and defining file and directory paths.\n"
   ]
  },
  {
   "cell_type": "code",
   "execution_count": 1,
   "metadata": {},
   "outputs": [],
   "source": [
    "import final_project.utils.paths as path"
   ]
  },
  {
   "cell_type": "markdown",
   "metadata": {},
   "source": [
    "## Specify input and output files"
   ]
  },
  {
   "cell_type": "markdown",
   "metadata": {},
   "source": [
    "## Definition of the URL and Local Path for COVID-19 Data\n",
    "\n",
    "We define two essential variables for downloading COVID-19 related data:\n",
    "\n",
    "1. **COVID-19 Data URL (`covid_url`):**\n",
    "   - `covid_url` is set as a string containing the URL of the CSV file for the time series of globally confirmed COVID-19 cases.\n",
    "   - This URL points to a repository on GitHub maintained by the Center for Systems Science and Engineering (CSSE) at Johns Hopkins University, which is a recognized source that is regularly updated with data on the COVID-19 pandemic.\n",
    "\n",
    "2. **Local Path to Store the Downloaded File (`covid_file`):**\n",
    "   - `covid_file` is defined using the `data_raw_dir` function from the `paths` module we previously imported.\n",
    "   - This function is a custom utility for obtaining the path to the directory where the raw data should be stored within the project's structure.\n",
    "   - Here, the file name `time_series_covid19_confirmed_global.csv` is passed, indicating that the data downloaded from the URL will be locally stored with this name in the specified directory for raw data."
   ]
  },
  {
   "cell_type": "code",
   "execution_count": 2,
   "metadata": {},
   "outputs": [],
   "source": [
    "covid_url = \"https://raw.githubusercontent.com/CSSEGISandData/COVID-19/master/csse_covid_19_data/csse_covid_19_time_series/time_series_covid19_confirmed_global.csv\"\n",
    "\n",
    "covid_file = path.data_raw_dir(\"time_series_covid19_confirmed_global.csv\")"
   ]
  },
  {
   "cell_type": "markdown",
   "metadata": {},
   "source": [
    "## Run download"
   ]
  },
  {
   "cell_type": "markdown",
   "metadata": {},
   "source": [
    "## Downloading COVID-19 Data File Using `curl`\n",
    "\n",
    "In this line of code, we use the `curl` command to download COVID-19 data from the specified URL and save it to the defined local location:\n",
    "\n",
    "- `!curl {covid_url} -o {covid_file}`:\n",
    "  - The exclamation mark `!` at the beginning indicates that we are executing a system command from within the notebook, which allows the use of command-line commands as if we were in a terminal.\n",
    "  - `curl` is a command-line tool used for transferring data to or from a server, using one of many supported protocols, including HTTP, which is of interest in this case.\n",
    "  - `{covid_url}` is the variable that contains the URL of the COVID-19 CSV data file. Using curly braces `{}`, we indicate that the value of the `covid_url` variable should be inserted here.\n",
    "  - The `-o` option followed by `{covid_file}` tells `curl` to download the data from the URL and save it in a local file at the path and file name specified in the `covid_file` variable.\n",
    "\n",
    "This command is essential for automating the download of updated COVID-19 data, allowing the notebook to remain current with the latest available data without manual intervention."
   ]
  },
  {
   "cell_type": "code",
   "execution_count": 3,
   "metadata": {},
   "outputs": [
    {
     "name": "stdout",
     "output_type": "stream",
     "text": [
      "  % Total    % Received % Xferd  Average Speed   Time    Time     Time  Current\n",
      "                                 Dload  Upload   Total   Spent    Left  Speed\n",
      "100 1777k  100 1777k    0     0  1834k      0 --:--:-- --:--:-- --:--:-- 1859k\n"
     ]
    }
   ],
   "source": [
    "!curl {covid_url} -o {covid_file}"
   ]
  },
  {
   "cell_type": "markdown",
   "metadata": {},
   "source": [
    "This notebook represents a fundamental step in our data analysis workflow, specifically focused on the collection of updated data about the COVID-19 pandemic. The key aspects of this notebook include:\n",
    "\n",
    "1. **Establishment of Reliable Data Sources:**\n",
    "   - We have identified and used an authorized data source (Johns Hopkins University's Center for Systems Science and Engineering) to ensure the accuracy and relevance of our information.\n",
    "\n",
    "2. **Automation in Data Downloading:**\n",
    "   - We implemented an efficient and reproducible method to automatically download the latest data, which facilitates the update and maintenance of our dataset.\n",
    "\n",
    "3. **Preparation for Future Analysis:**\n",
    "   - By storing the data in a specific and predefined location, we set the stage for more detailed analysis in subsequent notebooks, ensuring a coherent and organized workflow.\n",
    "\n",
    "This notebook serves as the foundation to ensure that we have accurate and up-to-date data for future stages of analysis and modeling in our COVID-19 project. The structure and methodology applied here are examples of best practices in data management, a critical component in any data science project.\n"
   ]
  }
 ],
 "metadata": {
  "interpreter": {
   "hash": "d3201167444dbe6abbbc1aebe26fb7a6b7b946dd39b7e90e38c96f1716eb7be4"
  },
  "kernelspec": {
   "display_name": "Python 3.9.6 64-bit ('final_project': conda)",
   "name": "python3"
  },
  "language_info": {
   "codemirror_mode": {
    "name": "ipython",
    "version": 3
   },
   "file_extension": ".py",
   "mimetype": "text/x-python",
   "name": "python",
   "nbconvert_exporter": "python",
   "pygments_lexer": "ipython3",
   "version": "3.9.6"
  },
  "orig_nbformat": 4
 },
 "nbformat": 4,
 "nbformat_minor": 2
}
